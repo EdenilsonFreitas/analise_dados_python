{
 "cells": [
  {
   "cell_type": "markdown",
   "id": "0c40176d-ab5c-4aaf-aacc-70bdc29651c2",
   "metadata": {},
   "source": [
    "## Lista de dados\n",
    "- Estrutura que permite agrupar varios valores\n",
    "- Permite agrupar valores de tipos diferentes em uma mesma estrutura\n",
    "- utiliza colchetes [] e separa os elementos com vírgula"
   ]
  },
  {
   "cell_type": "code",
   "execution_count": null,
   "id": "6280fbe3-20b9-412b-8026-cf661d99fd01",
   "metadata": {},
   "outputs": [],
   "source": [
    "# Criando um lista\n",
    "\n",
    "lista_1 = [1,6,10,20]\n",
    "lista_2  = [4.5, 3.1, 5.0]\n",
    "lista_3 = ['nota1', 'nota2']\n",
    "lista_4 = [True, False, False]\n",
    "lista_5 = [1, 'nata1',2.5,False]\n",
    "lista_6 = [5,3,[5,2,1]]"
   ]
  },
  {
   "cell_type": "markdown",
   "id": "1e9b6889-5d48-45d1-8387-a65fff469d6c",
   "metadata": {},
   "source": [
    "### Estrutura\n",
    "-A estrutura utiliza as posiçoes para armazenar e localizar"
   ]
  },
  {
   "cell_type": "code",
   "execution_count": 2,
   "id": "9725aeb4-2340-4e16-82ea-a2c92654accc",
   "metadata": {},
   "outputs": [
    {
     "name": "stdout",
     "output_type": "stream",
     "text": [
      "[5, 2, 1]\n"
     ]
    }
   ],
   "source": [
    "lista_6 = [5,3, [5,2,1]]\n",
    "print(lista_6[2])"
   ]
  },
  {
   "cell_type": "code",
   "execution_count": 3,
   "id": "cebc43b4-75c6-4dca-acea-07e68620b67d",
   "metadata": {},
   "outputs": [
    {
     "name": "stdout",
     "output_type": "stream",
     "text": [
      "2\n"
     ]
    }
   ],
   "source": [
    "print(lista_6[2][1])"
   ]
  },
  {
   "cell_type": "code",
   "execution_count": 4,
   "id": "a875626e-f20e-463e-9f9e-998a513b1437",
   "metadata": {},
   "outputs": [
    {
     "name": "stdout",
     "output_type": "stream",
     "text": [
      "[1, 6, 10, 20, 4.5, 3.1, 5.0]\n"
     ]
    }
   ],
   "source": [
    "lista_1 = [1,6,10,20]\n",
    "lista_2  = [4.5, 3.1, 5.0]\n",
    "lista_juncao = lista_1 + lista_2\n",
    "print(lista_juncao)"
   ]
  },
  {
   "cell_type": "code",
   "execution_count": 5,
   "id": "aff00e98-1bee-4e88-acab-7c2d4082d0c1",
   "metadata": {},
   "outputs": [
    {
     "name": "stdout",
     "output_type": "stream",
     "text": [
      "4\n"
     ]
    }
   ],
   "source": [
    "# Tamanho da lista\n",
    "lista_1 = [1,6,10,20]\n",
    "print(len(lista_1))\n"
   ]
  },
  {
   "cell_type": "code",
   "execution_count": 6,
   "id": "f7d2e82e-b258-48f7-abfb-f6cdcaab0e68",
   "metadata": {},
   "outputs": [
    {
     "name": "stdout",
     "output_type": "stream",
     "text": [
      "20\n"
     ]
    }
   ],
   "source": [
    "# Maior elemento da lista - funçao max\n",
    "print(max(lista_1))"
   ]
  },
  {
   "cell_type": "code",
   "execution_count": 8,
   "id": "c69e0ed8-da84-4eda-a8f7-28ec6eafee1d",
   "metadata": {},
   "outputs": [
    {
     "name": "stdout",
     "output_type": "stream",
     "text": [
      "1\n"
     ]
    }
   ],
   "source": [
    "# Maior elemento da lista - funçao min\n",
    "print(min(lista_1))"
   ]
  },
  {
   "cell_type": "code",
   "execution_count": 9,
   "id": "4403c8a1-1be0-4884-aa48-df66cc3becde",
   "metadata": {},
   "outputs": [
    {
     "name": "stdout",
     "output_type": "stream",
     "text": [
      "37\n"
     ]
    }
   ],
   "source": [
    "# Somar todos os elementos da lista -  funçao sum()\n",
    "print(sum(lista_1))"
   ]
  },
  {
   "cell_type": "code",
   "execution_count": 10,
   "id": "d64ca50b-fd1c-4f93-a946-6dd17d57cf60",
   "metadata": {},
   "outputs": [
    {
     "name": "stdout",
     "output_type": "stream",
     "text": [
      "[1, 15, 10, 20]\n"
     ]
    }
   ],
   "source": [
    "# substituir um elemento da lista, se usa colchetes\n",
    "lista_1 = [1,6,10,20]\n",
    "lista_1[1]=15\n",
    "print(lista_1)"
   ]
  },
  {
   "cell_type": "code",
   "execution_count": 11,
   "id": "832a61fd-00b3-46ae-8d14-96ac587b9ae3",
   "metadata": {},
   "outputs": [
    {
     "name": "stdout",
     "output_type": "stream",
     "text": [
      "[1, 6, 10, 20, 15]\n"
     ]
    }
   ],
   "source": [
    "# Adicionar um elemento a lista -  funçao append()\n",
    "lista_1 = [1,6,10,20]\n",
    "lista_1.append(15)\n",
    "print(lista_1)"
   ]
  },
  {
   "cell_type": "code",
   "execution_count": 13,
   "id": "b2d3ddb9-d183-443b-81f0-acd4b6cf816f",
   "metadata": {},
   "outputs": [
    {
     "name": "stdout",
     "output_type": "stream",
     "text": [
      "[1, 6, 50, 10, 20]\n"
     ]
    }
   ],
   "source": [
    "# Inseriendo um novo elemento em um possiçao especifica - funçao insert()\n",
    "lista_1 = [1,6,10,20]\n",
    "lista_1.insert(2,50)\n",
    "print(lista_1)"
   ]
  },
  {
   "cell_type": "code",
   "execution_count": 14,
   "id": "2b36ec77-5929-4629-ae59-a7857992f7a9",
   "metadata": {},
   "outputs": [
    {
     "name": "stdout",
     "output_type": "stream",
     "text": [
      "2\n"
     ]
    }
   ],
   "source": [
    "# Retornando a posiçao de um elemento  - funçao index()\n",
    "lista_1 = [1,6,10,20]\n",
    "print(lista_1.index(10))"
   ]
  },
  {
   "cell_type": "code",
   "execution_count": 15,
   "id": "5db0e42f-0cba-46cb-80bb-1e1834af16ef",
   "metadata": {},
   "outputs": [
    {
     "name": "stdout",
     "output_type": "stream",
     "text": [
      "[20, 10, 6, 1]\n"
     ]
    }
   ],
   "source": [
    "# Invertendo a ordem dos elemento da lista -  reverse()\n",
    "lista_1 = [1,6,10,20]\n",
    "lista_1.reverse()\n",
    "print(lista_1)"
   ]
  },
  {
   "cell_type": "code",
   "execution_count": 17,
   "id": "77e98f17-a6bc-4421-a158-ebbfab41f573",
   "metadata": {},
   "outputs": [
    {
     "name": "stdout",
     "output_type": "stream",
     "text": [
      "[6, 10, 11, 20]\n"
     ]
    }
   ],
   "source": [
    "# Ordenar a ordem da lista - funçao sort()\n",
    "lista_1 = [11,6,10,20]\n",
    "lista_1.sort()\n",
    "print(lista_1)"
   ]
  },
  {
   "cell_type": "markdown",
   "id": "2f18718e-c962-4148-8dea-1fec3bec8c8e",
   "metadata": {},
   "source": [
    "### Tuplas\n",
    "- Estruturas semalhantes a lista mas nao pode ser alterada (imutavel)\n",
    "- utiliza parenteses para definir e colchetes\n",
    "  "
   ]
  },
  {
   "cell_type": "code",
   "execution_count": 18,
   "id": "2fd87b89-94cf-4f39-8193-893bcedb2c36",
   "metadata": {},
   "outputs": [],
   "source": [
    "tuplas_1 = (\"Segunda\", \"Terça\", \"Quarta\")"
   ]
  },
  {
   "cell_type": "code",
   "execution_count": 20,
   "id": "f0b66216-4ca4-4b43-a993-aef50fa78567",
   "metadata": {},
   "outputs": [
    {
     "name": "stdout",
     "output_type": "stream",
     "text": [
      "Segunda\n"
     ]
    }
   ],
   "source": [
    "# Para acessar um elemento utiliza colchetes\n",
    "tuplas_1 = (\"Segunda\", \"Terça\", \"Quarta\")\n",
    "print(tuplas_1[0])"
   ]
  },
  {
   "cell_type": "code",
   "execution_count": 21,
   "id": "0e98083f-7447-4ba1-a79d-01bc71cb7129",
   "metadata": {},
   "outputs": [
    {
     "ename": "TypeError",
     "evalue": "'tuple' object does not support item assignment",
     "output_type": "error",
     "traceback": [
      "\u001b[1;31m---------------------------------------------------------------------------\u001b[0m",
      "\u001b[1;31mTypeError\u001b[0m                                 Traceback (most recent call last)",
      "Cell \u001b[1;32mIn[21], line 2\u001b[0m\n\u001b[0;32m      1\u001b[0m \u001b[38;5;66;03m#Não é possivel alterar qualquer valor da tupla dispra um erro\u001b[39;00m\n\u001b[1;32m----> 2\u001b[0m \u001b[43mtuplas_1\u001b[49m\u001b[43m[\u001b[49m\u001b[38;5;241;43m1\u001b[39;49m\u001b[43m]\u001b[49m\u001b[38;5;241m=\u001b[39m \u001b[38;5;124m\"\u001b[39m\u001b[38;5;124mQuarta\u001b[39m\u001b[38;5;124m\"\u001b[39m\n",
      "\u001b[1;31mTypeError\u001b[0m: 'tuple' object does not support item assignment"
     ]
    }
   ],
   "source": [
    "#Não é possivel alterar qualquer valor da tupla dispra um erro\n",
    "tuplas_1[1]= \"Quarta\""
   ]
  },
  {
   "cell_type": "code",
   "execution_count": 24,
   "id": "dece425b-5acc-4a9c-a6d4-cfce928f6126",
   "metadata": {},
   "outputs": [
    {
     "name": "stdout",
     "output_type": "stream",
     "text": [
      "['Segunda', 'Terça', 'Quarta']\n"
     ]
    }
   ],
   "source": [
    "# Converter um tupla em lista - utiliza a funçao list()\n",
    "tuplas_1 = (\"Segunda\", \"Terça\", \"Quarta\")\n",
    "lista_resultado = list(tuplas_1)\n",
    "print(lista_resultado)"
   ]
  },
  {
   "cell_type": "markdown",
   "id": "397d015a-bd07-4627-980a-9634d317c5b5",
   "metadata": {},
   "source": [
    "### Dicionario de dados\n",
    "- Estrutura de dados composta por chaves e valores\n",
    "- Utiliza chave {} para a criaçao"
   ]
  },
  {
   "cell_type": "code",
   "execution_count": null,
   "id": "6b74f5a4-7f27-4aba-ba41-769f1499023e",
   "metadata": {},
   "outputs": [],
   "source": []
  }
 ],
 "metadata": {
  "kernelspec": {
   "display_name": "Python 3 (ipykernel)",
   "language": "python",
   "name": "python3"
  },
  "language_info": {
   "codemirror_mode": {
    "name": "ipython",
    "version": 3
   },
   "file_extension": ".py",
   "mimetype": "text/x-python",
   "name": "python",
   "nbconvert_exporter": "python",
   "pygments_lexer": "ipython3",
   "version": "3.10.4"
  }
 },
 "nbformat": 4,
 "nbformat_minor": 5
}
