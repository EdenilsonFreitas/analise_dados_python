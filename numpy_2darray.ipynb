{
 "cells": [
  {
   "cell_type": "markdown",
   "id": "1156210b-a006-4039-bc2a-f097531fee85",
   "metadata": {},
   "source": [
    "# Aula  - darray - Array de 2 dimensões"
   ]
  },
  {
   "cell_type": "code",
   "execution_count": 3,
   "id": "3ba27603-65f9-411a-bef3-479e4d8320e1",
   "metadata": {},
   "outputs": [],
   "source": [
    "import numpy as np"
   ]
  },
  {
   "cell_type": "markdown",
   "id": "fc4b49b2-c39b-4c0d-91a8-6fd771666134",
   "metadata": {},
   "source": [
    "## Criaçao de um 2darray"
   ]
  },
  {
   "cell_type": "code",
   "execution_count": 4,
   "id": "9aa66c14-55ae-4593-94df-2626f225ac7b",
   "metadata": {},
   "outputs": [],
   "source": [
    "# utiliza tambem a funçao arra()\n",
    "array_1 = np.array([[1,2,3,],[4,5,6]])"
   ]
  },
  {
   "cell_type": "code",
   "execution_count": 5,
   "id": "91a14970-e4a1-405a-a4ba-d0f4de058f45",
   "metadata": {},
   "outputs": [
    {
     "name": "stdout",
     "output_type": "stream",
     "text": [
      "[[1 2 3]\n",
      " [4 5 6]]\n"
     ]
    }
   ],
   "source": [
    "print(array_1)"
   ]
  },
  {
   "cell_type": "code",
   "execution_count": 6,
   "id": "2e556f4a-b0bc-4198-a354-299130dd95bb",
   "metadata": {},
   "outputs": [
    {
     "name": "stdout",
     "output_type": "stream",
     "text": [
      "<class 'numpy.ndarray'>\n"
     ]
    }
   ],
   "source": [
    "print(type(array_1))"
   ]
  },
  {
   "cell_type": "markdown",
   "id": "be1e6ba2-de53-4e54-8e59-e7b084acc1e9",
   "metadata": {},
   "source": [
    "# Acessando elemnto do array de 2 dimensões"
   ]
  },
  {
   "cell_type": "code",
   "execution_count": 8,
   "id": "d6a57367-6da4-4fc8-b555-90a18923bb38",
   "metadata": {},
   "outputs": [
    {
     "name": "stdout",
     "output_type": "stream",
     "text": [
      "5\n"
     ]
    }
   ],
   "source": [
    "# sempre na sequencia: linha x coluna. se usa colchetes []\n",
    "print(array_1[1][1])"
   ]
  },
  {
   "cell_type": "code",
   "execution_count": 9,
   "id": "fbdf02eb-585e-4f93-acbc-9475f65bb2f4",
   "metadata": {},
   "outputs": [
    {
     "name": "stdout",
     "output_type": "stream",
     "text": [
      "3\n"
     ]
    }
   ],
   "source": [
    "# linha 0 ; coluna 2\n",
    "print(array_1[0][2])"
   ]
  },
  {
   "cell_type": "code",
   "execution_count": 10,
   "id": "8c3f011a-9b93-44b6-aa9b-a9b1fa12b6f3",
   "metadata": {},
   "outputs": [
    {
     "name": "stdout",
     "output_type": "stream",
     "text": [
      "2\n"
     ]
    }
   ],
   "source": [
    "print(array_1[0][1])"
   ]
  },
  {
   "cell_type": "code",
   "execution_count": 11,
   "id": "c2b103e2-180b-4ed4-8589-2514fdfa0272",
   "metadata": {},
   "outputs": [
    {
     "name": "stdout",
     "output_type": "stream",
     "text": [
      "[[ 1 30  3]\n",
      " [ 4  5  6]]\n"
     ]
    }
   ],
   "source": [
    "# se substituir um valor se utiliza colchetes tambem\n",
    "array_1[0][1]= 30\n",
    "print(array_1)"
   ]
  },
  {
   "cell_type": "code",
   "execution_count": 12,
   "id": "e1a4ea03-2706-420c-94e3-6867cf5f6503",
   "metadata": {},
   "outputs": [
    {
     "name": "stdout",
     "output_type": "stream",
     "text": [
      "[[ 1 30  3]\n",
      " [15  5  6]]\n"
     ]
    }
   ],
   "source": [
    "array_1[1,0]= 15\n",
    "print(array_1)"
   ]
  },
  {
   "cell_type": "markdown",
   "id": "72e2201f-92bb-4f14-ad7b-85115634ad25",
   "metadata": {},
   "source": [
    "## propriedades para 2darray"
   ]
  },
  {
   "cell_type": "code",
   "execution_count": 13,
   "id": "436be8b1-6ac8-4365-8cc0-1ac9c211b7dd",
   "metadata": {},
   "outputs": [
    {
     "name": "stdout",
     "output_type": "stream",
     "text": [
      "(2, 3)\n"
     ]
    }
   ],
   "source": [
    "# Shape - retorna a quantidade de elementos por dimensao\n",
    "print(array_1.shape)"
   ]
  },
  {
   "cell_type": "code",
   "execution_count": 14,
   "id": "e42a16b5-fed7-479f-9371-7c2bc6270fa3",
   "metadata": {},
   "outputs": [
    {
     "name": "stdout",
     "output_type": "stream",
     "text": [
      "6\n"
     ]
    }
   ],
   "source": [
    "# size - quantidade total de elementos no array\n",
    "print(array_1.size)"
   ]
  },
  {
   "cell_type": "code",
   "execution_count": 15,
   "id": "58d9f269-14bc-4642-8b53-d2b2229922c4",
   "metadata": {},
   "outputs": [
    {
     "name": "stdout",
     "output_type": "stream",
     "text": [
      "2\n"
     ]
    }
   ],
   "source": [
    "# ndim - retorna a dimensao do array\n",
    "print(array_1.ndim)"
   ]
  },
  {
   "cell_type": "markdown",
   "id": "99883ca3-14ce-4535-a689-3b04e3c6e9dc",
   "metadata": {},
   "source": [
    "## Funções para 2darray"
   ]
  },
  {
   "cell_type": "code",
   "execution_count": 17,
   "id": "75fb9fc6-e87a-4d84-a959-a956f2bb93ee",
   "metadata": {},
   "outputs": [
    {
     "name": "stdout",
     "output_type": "stream",
     "text": [
      "[ 1 31 34 49 54 60]\n"
     ]
    }
   ],
   "source": [
    "# cumsum() - soma acumulada\n",
    "print(array_1.cumsum())"
   ]
  },
  {
   "cell_type": "code",
   "execution_count": 20,
   "id": "6971d96f-5609-448f-970e-112177822016",
   "metadata": {},
   "outputs": [
    {
     "name": "stdout",
     "output_type": "stream",
     "text": [
      "[[1 2 3]\n",
      " [4 5 6]]\n"
     ]
    }
   ],
   "source": [
    "# reshape - modifica a dimensao do array\n",
    "array_d1 = np.array([1,2,3,4,5,6])\n",
    "array_2 = array_d1.reshape(2,3)\n",
    "print(array_2)\n"
   ]
  },
  {
   "cell_type": "code",
   "execution_count": 22,
   "id": "0b9d79fe-9155-47c5-b852-65f831ba9b82",
   "metadata": {},
   "outputs": [
    {
     "name": "stdout",
     "output_type": "stream",
     "text": [
      "[[ 1 31 34]\n",
      " [49 54 60]]\n"
     ]
    }
   ],
   "source": [
    "'''\n",
    "A funçao cumsum() gera um array de 1 demensao. no exemplo a seguir foi acumulado com a funçao reshape(), que é executada\n",
    "em seguida gerando gerando novamente o array de duas dimesões.\n",
    "'''\n",
    "print(array_1.cumsum().reshape(2,3))"
   ]
  },
  {
   "cell_type": "code",
   "execution_count": 24,
   "id": "8558c92a-1d97-4d0c-b64a-a1233a263b10",
   "metadata": {},
   "outputs": [
    {
     "name": "stdout",
     "output_type": "stream",
     "text": [
      "[[ 1  2]\n",
      " [ 3  4]\n",
      " [ 5  6]\n",
      " [ 7  8]\n",
      " [ 9 10]]\n"
     ]
    }
   ],
   "source": [
    "array_3 = np.array(range(1,11)).reshape(5,2)\n",
    "print(array_3)"
   ]
  },
  {
   "cell_type": "code",
   "execution_count": null,
   "id": "4ba8b260-d2d3-4ebf-8ced-2727206ef4ed",
   "metadata": {},
   "outputs": [],
   "source": []
  }
 ],
 "metadata": {
  "kernelspec": {
   "display_name": "Python 3 (ipykernel)",
   "language": "python",
   "name": "python3"
  },
  "language_info": {
   "codemirror_mode": {
    "name": "ipython",
    "version": 3
   },
   "file_extension": ".py",
   "mimetype": "text/x-python",
   "name": "python",
   "nbconvert_exporter": "python",
   "pygments_lexer": "ipython3",
   "version": "3.10.4"
  }
 },
 "nbformat": 4,
 "nbformat_minor": 5
}
