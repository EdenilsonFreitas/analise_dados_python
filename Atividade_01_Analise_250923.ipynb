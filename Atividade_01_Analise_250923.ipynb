{
 "cells": [
  {
   "cell_type": "markdown",
   "id": "3b908774",
   "metadata": {},
   "source": [
    "# Atividade - 25/09/23"
   ]
  },
  {
   "cell_type": "markdown",
   "id": "5776e5be",
   "metadata": {},
   "source": [
    "Documentação Numpy: https://numpy.org/doc/stable/\n",
    "\n",
    "Enviar este arquivo preenchido com o nome do aluno para o e-mail: profbrunorespostas1@gmail.com e assunto: AD2301"
   ]
  },
  {
   "cell_type": "code",
   "execution_count": 1,
   "id": "4b829a95",
   "metadata": {},
   "outputs": [
    {
     "name": "stdout",
     "output_type": "stream",
     "text": [
      "Edenilson Lima de Freitas\n"
     ]
    }
   ],
   "source": [
    "#Substituir nome do aluno aqui\n",
    "print(\"Edenilson Lima de Freitas\")"
   ]
  },
  {
   "cell_type": "markdown",
   "id": "36dec32b",
   "metadata": {},
   "source": [
    "### Questão 1:\n",
    "Pesquisar na documentação da biblioteca numpy por propriedades e funções disponíveis para manipulação de Array de 1 dimensão (1darray) que não foram vistas em sala de aula. Citar cada uma delas com a explicação em forma de comentário e um exemplo.\n",
    "\n",
    "Arquivo da aula sobre numpy: https://github.com/brunogomesifrn/respostas_ifrn/blob/main/python/Aulas/2023/numpy.ipynb"
   ]
  },
  {
   "cell_type": "markdown",
   "id": "b515d917",
   "metadata": {},
   "source": [
    "#### Propriedades - 1darray"
   ]
  },
  {
   "cell_type": "code",
   "execution_count": 2,
   "id": "ad48eaa6",
   "metadata": {},
   "outputs": [],
   "source": [
    "import numpy as np\n",
    "\n"
   ]
  },
  {
   "cell_type": "code",
   "execution_count": 9,
   "id": "57047d70",
   "metadata": {},
   "outputs": [
    {
     "name": "stdout",
     "output_type": "stream",
     "text": [
      "1\n",
      "3\n",
      "[1 2 3 4 5]\n"
     ]
    }
   ],
   "source": [
    "# Criando um 1D array usando numpy.array()\n",
    "my_array = np.array([1, 2, 3, 4, 5])\n",
    "\n",
    "# Ou criando um 1D array usando numpy.arange()\n",
    "\n",
    "my_array2 = np.arange(1, 6)  # Isso cria um array com os números de 1 a 5\n",
    "print(my_array[0])  # Acessa o primeiro elemento (índice 0)\n",
    "print(my_array[2])  # Acessa o terceiro elemento (índice 2)\n",
    "print(my_array)\n",
    "\n",
    "\n",
    "\n"
   ]
  },
  {
   "cell_type": "markdown",
   "id": "1dcf6129",
   "metadata": {},
   "source": [
    "#### Funções - 1darray"
   ]
  },
  {
   "cell_type": "markdown",
   "id": "f0a7e05a-8dca-4f2a-ac3a-c42084aa98ab",
   "metadata": {},
   "source": [
    "\r\n",
    "Em NumPy, você pode realizar uma variedade de operações e funções em um 1D array (também conhecido como vetor) para manipular, analisar e processar dados de maneira eficiente. Aqui estão algumas funções comuns que você pode aplicar a um 1D array em Python usando NumPy:\r\n",
    "\r\n",
    "Operações matemáticas básicas:\r\n",
    "\r\n",
    "Você pode realizar operações matemáticas básicas em todos os elementos do array."
   ]
  },
  {
   "cell_type": "code",
   "execution_count": 10,
   "id": "a53ccf3c",
   "metadata": {},
   "outputs": [],
   "source": [
    "arr = np.array([1, 2, 3, 4, 5])\n",
    "\n",
    "# Soma de todos os elementos do array\n",
    "soma = np.sum(arr)\n",
    "\n",
    "# Média dos elementos do array\n",
    "media = np.mean(arr)\n",
    "\n",
    "# Mínimo e máximo\n",
    "minimo = np.min(arr)\n",
    "maximo = np.max(arr)\n",
    "\n",
    "# Raiz quadrada de cada elemento\n",
    "raiz_quadrada = np.sqrt(arr)"
   ]
  },
  {
   "cell_type": "code",
   "execution_count": 27,
   "id": "d849528d-bcca-42e8-96ef-eea7787c01af",
   "metadata": {},
   "outputs": [
    {
     "name": "stdout",
     "output_type": "stream",
     "text": [
      "Array: [1 2 3 4 5]\n",
      "Soma: 15\n",
      "Média: 3.0\n",
      "Mínimo: 1\n",
      "Máximo: 5\n",
      "Raiz Quadrada: [1.         1.41421356 1.73205081 2.         2.23606798]\n"
     ]
    }
   ],
   "source": [
    "# Imprime os resultados\n",
    "print(\"Array:\", arr)\n",
    "print(\"Soma:\", soma)\n",
    "print(\"Média:\", media)\n",
    "print(\"Mínimo:\", minimo)\n",
    "print(\"Máximo:\", maximo)\n",
    "print(\"Raiz Quadrada:\", raiz_quadrada)"
   ]
  },
  {
   "cell_type": "code",
   "execution_count": null,
   "id": "9b447c8b-f4a8-44e5-be0c-84e51a0e6224",
   "metadata": {},
   "outputs": [],
   "source": []
  },
  {
   "cell_type": "code",
   "execution_count": null,
   "id": "13aef1b2-38c0-4bda-92b2-b42916a7c545",
   "metadata": {},
   "outputs": [],
   "source": []
  },
  {
   "cell_type": "markdown",
   "id": "4ed71dd7",
   "metadata": {},
   "source": [
    "### Questão 2\n",
    "Crie um exemplo de criação de um array de 2 dimensões (2darray).\n",
    "\n",
    "Neste exemplo, matrix é um array de duas dimensões (uma matriz) que contém três linhas e três colunas. Cada lista interna representa uma linha da matriz, e os elementos dentro dessas listas representam os valores nas respectivas colunas."
   ]
  },
  {
   "cell_type": "code",
   "execution_count": 28,
   "id": "b5fe53dc",
   "metadata": {},
   "outputs": [
    {
     "name": "stdout",
     "output_type": "stream",
     "text": [
      "[[1 2 3]\n",
      " [4 5 6]\n",
      " [7 8 9]]\n"
     ]
    }
   ],
   "source": [
    "# Criando um 2D array (uma matriz) com valores iniciais\n",
    "matrix = np.array([[1, 2, 3], [4, 5, 6], [7, 8, 9]])\n",
    "\n",
    "# Imprimindo o 2D array\n",
    "print(matrix)"
   ]
  },
  {
   "cell_type": "markdown",
   "id": "e979093d",
   "metadata": {},
   "source": [
    "### Questão 3\n",
    "Cite funções disponíveis no numpy que criam array de duas dimenões (2darray) já preenchido de forma automática."
   ]
  },
  {
   "cell_type": "code",
   "execution_count": 29,
   "id": "ee11cf0a",
   "metadata": {},
   "outputs": [
    {
     "name": "stdout",
     "output_type": "stream",
     "text": [
      "[[0. 0. 0.]\n",
      " [0. 0. 0.]\n",
      " [0. 0. 0.]]\n"
     ]
    }
   ],
   "source": [
    "# numpy.zeros(shape): Cria uma matriz preenchida com zeros.\n",
    "zeros_matrix = np.zeros((3, 3))  # Cria uma matriz 3x3 preenchida com zeros\n",
    "print(zeros_matrix)\n"
   ]
  },
  {
   "cell_type": "code",
   "execution_count": 30,
   "id": "38175192",
   "metadata": {},
   "outputs": [
    {
     "name": "stdout",
     "output_type": "stream",
     "text": [
      "[[1. 1. 1. 1.]\n",
      " [1. 1. 1. 1.]]\n"
     ]
    }
   ],
   "source": [
    "# numpy.ones(shape): Cria uma matriz preenchida com uns.\n",
    "ones_matrix = np.ones((2, 4))  # Cria uma matriz 2x4 preenchida com uns\n",
    "print(ones_matrix)"
   ]
  },
  {
   "cell_type": "code",
   "execution_count": 31,
   "id": "2320ae71-fb0c-4138-a289-80ab906cadcc",
   "metadata": {},
   "outputs": [
    {
     "name": "stdout",
     "output_type": "stream",
     "text": [
      "[[1. 0. 0.]\n",
      " [0. 1. 0.]\n",
      " [0. 0. 1.]]\n"
     ]
    }
   ],
   "source": [
    "# numpy.eye(N): Cria uma matriz de identidade N x N, com uns na diagonal principal e zeros em outros lugares.\n",
    "identity_matrix = np.eye(3)  # Cria uma matriz de identidade 3x3\n",
    "print(identity_matrix)"
   ]
  },
  {
   "cell_type": "code",
   "execution_count": 32,
   "id": "b1bab4cb-6ab1-4495-9fc9-3fae6a520839",
   "metadata": {},
   "outputs": [
    {
     "name": "stdout",
     "output_type": "stream",
     "text": [
      "[[0.58027524 0.21346027 0.38657747]\n",
      " [0.6056106  0.51499292 0.0869283 ]]\n"
     ]
    }
   ],
   "source": [
    "# numpy.random.rand(shape): Cria uma matriz com valores aleatórios entre 0 e 1.\n",
    "random_matrix = np.random.rand(2, 3)  # Cria uma matriz 2x3 com valores aleatórios\n",
    "print(random_matrix)"
   ]
  },
  {
   "cell_type": "code",
   "execution_count": 33,
   "id": "d1d7b425-c9d0-408e-9759-8ef555b6a89c",
   "metadata": {},
   "outputs": [
    {
     "name": "stdout",
     "output_type": "stream",
     "text": [
      "[1 3 5 7 9]\n"
     ]
    }
   ],
   "source": [
    "# numpy.arange(start, stop, step): Cria uma matriz de valores igualmente espaçados dentro de um intervalo.\n",
    "range_matrix = np.arange(1, 10, 2)  # Cria uma matriz com valores de 1 a 9 com passos de 2\n",
    "print(range_matrix)"
   ]
  },
  {
   "cell_type": "code",
   "execution_count": 34,
   "id": "6f8d6902-1d7b-4b00-8a25-fc65e2059bac",
   "metadata": {},
   "outputs": [
    {
     "name": "stdout",
     "output_type": "stream",
     "text": [
      "[0.   0.25 0.5  0.75 1.  ]\n"
     ]
    }
   ],
   "source": [
    "# numpy.linspace(start, stop, num): Cria uma matriz com valores igualmente espaçados dentro de um intervalo com base em um número especificado de pontos.\n",
    "linspace_matrix = np.linspace(0, 1, 5)  # Cria uma matriz com 5 valores igualmente espaçados de 0 a 1\n",
    "print(linspace_matrix)"
   ]
  },
  {
   "cell_type": "code",
   "execution_count": null,
   "id": "fac6b01a-3bc2-4fd4-84c3-ab8329ad21c5",
   "metadata": {},
   "outputs": [],
   "source": []
  }
 ],
 "metadata": {
  "kernelspec": {
   "display_name": "Python 3 (ipykernel)",
   "language": "python",
   "name": "python3"
  },
  "language_info": {
   "codemirror_mode": {
    "name": "ipython",
    "version": 3
   },
   "file_extension": ".py",
   "mimetype": "text/x-python",
   "name": "python",
   "nbconvert_exporter": "python",
   "pygments_lexer": "ipython3",
   "version": "3.10.6"
  }
 },
 "nbformat": 4,
 "nbformat_minor": 5
}
