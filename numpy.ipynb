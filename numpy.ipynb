{
 "cells": [
  {
   "cell_type": "markdown",
   "id": "19f7d40f-8ada-4812-b57b-9130730cf3b3",
   "metadata": {},
   "source": [
    "# Numpy"
   ]
  },
  {
   "cell_type": "markdown",
   "id": "2272bcf0-cf04-49b3-81ff-84affa992333",
   "metadata": {},
   "source": [
    "numpy = Numerical python\n",
    "pacote para operaçoes matematicas que suportam analise de dados, inteligentes artificial, entre outras.\n",
    "\n",
    "- Numpy trabalha com o conceito de Array e tem suporte e leitura de datasers;\n",
    "- Disponibilizam diversas funçoes de calculos matematicos e estatisticos;\n",
    "\n",
    "Site Oficial: https://numpy.org\n",
    "\n",
    "\n",
    "- Instalaçao: pip install numpy"
   ]
  },
  {
   "cell_type": "markdown",
   "id": "d5a605b8-f915-4c6c-839e-5d8838761e64",
   "metadata": {},
   "source": [
    "## Array Numpy\n",
    "\n",
    "Array é uma lista de dados de mesmo tipo.\n",
    "\n",
    "Nomeclatura Ofical: ndarray\n",
    "- 1-D array com 1 dimensao - vetor, lista\n",
    "- 2- d array com 2 dimensao - matriz\n",
    "- 3 - D ou mais array - array com 3 ou mais dimensoes - tensor"
   ]
  },
  {
   "cell_type": "code",
   "execution_count": 2,
   "id": "e85cb7de-7ebf-471a-8a28-844c97f8ba73",
   "metadata": {},
   "outputs": [],
   "source": [
    "# Importando a biblioteca\n",
    "import numpy as np"
   ]
  },
  {
   "cell_type": "code",
   "execution_count": 3,
   "id": "fc2e49a9-6cbe-42f8-9acf-369f23e82ebe",
   "metadata": {},
   "outputs": [
    {
     "name": "stdout",
     "output_type": "stream",
     "text": [
      "[ 2  6  5  1 55]\n"
     ]
    }
   ],
   "source": [
    "# Criando um array  - funçao array()\n",
    "array_01 = np.array([2,6,5,1,55,])\n",
    "print(array_01)\n"
   ]
  },
  {
   "cell_type": "code",
   "execution_count": 9,
   "id": "8aa9fce3-448d-49d4-9f0a-fb9d9f25c9bd",
   "metadata": {},
   "outputs": [
    {
     "name": "stdout",
     "output_type": "stream",
     "text": [
      "<class 'numpy.ndarray'>\n"
     ]
    }
   ],
   "source": [
    "# type() - é uma funçao python para visualizar o tipo de dados \n",
    "array_01 = np.array([2,6,5,1,55,])\n",
    "print(type(array_01))"
   ]
  },
  {
   "cell_type": "markdown",
   "id": "a7181b9c-1bf0-4a7c-b9f0-0e4bfa2aa708",
   "metadata": {},
   "source": [
    "## Propriedades"
   ]
  },
  {
   "cell_type": "code",
   "execution_count": 10,
   "id": "5df34fdf-8ca3-45ea-84a6-56cdd7532866",
   "metadata": {},
   "outputs": [
    {
     "name": "stdout",
     "output_type": "stream",
     "text": [
      "int32\n"
     ]
    }
   ],
   "source": [
    "# dtype -  imprime o tipo dos dados de array numpy\n",
    "array_01 = np.array([2,6,5,1,55,])\n",
    "print(array_01.dtype)"
   ]
  },
  {
   "cell_type": "code",
   "execution_count": 11,
   "id": "292109b4-e775-4c88-9e77-e0b095f348ed",
   "metadata": {},
   "outputs": [
    {
     "name": "stdout",
     "output_type": "stream",
     "text": [
      "(5,)\n"
     ]
    }
   ],
   "source": [
    "# shape - dimensao qtd de elementos do array numpy\n",
    "array_01 = np.array([2,6,5,1,55,])\n",
    "print(array_01.shape)"
   ]
  },
  {
   "cell_type": "code",
   "execution_count": 12,
   "id": "a0078ce7-610d-4786-a926-3f604fbcfad9",
   "metadata": {},
   "outputs": [
    {
     "name": "stdout",
     "output_type": "stream",
     "text": [
      "5\n"
     ]
    }
   ],
   "source": [
    "# size -  quantidade de elementos do array\n",
    "array_01 = np.array([2,6,5,1,55,])\n",
    "print(array_01.size)"
   ]
  },
  {
   "cell_type": "markdown",
   "id": "31ee1621-4685-4b33-bba2-1db4efacec28",
   "metadata": {},
   "source": [
    "## Funçoes"
   ]
  },
  {
   "cell_type": "code",
   "execution_count": 13,
   "id": "fb10f193-5087-4ed6-a1c3-e7add1d39372",
   "metadata": {},
   "outputs": [
    {
     "name": "stdout",
     "output_type": "stream",
     "text": [
      "[ 2  8 13 14 69]\n"
     ]
    }
   ],
   "source": [
    "# cumsum() - gera um novo array numpy com a soma acumulada dos elementos\n",
    "array_01 = np.array([2,6,5,1,55,])\n",
    "print(array_01.cumsum())"
   ]
  },
  {
   "cell_type": "code",
   "execution_count": 17,
   "id": "4a258ad3-183e-4f76-88dc-829fcf8de202",
   "metadata": {},
   "outputs": [
    {
     "name": "stdout",
     "output_type": "stream",
     "text": [
      "[0 1 2 3 4 5 6 7 8 9]\n"
     ]
    }
   ],
   "source": [
    "# arange() - cria um array numpy surgerindo....\n",
    "array_01 = np.arange(10)\n",
    "print(array_01)"
   ]
  },
  {
   "cell_type": "code",
   "execution_count": 15,
   "id": "7618e61d-128b-4ec3-b3e3-34ae2a574f9a",
   "metadata": {},
   "outputs": [
    {
     "name": "stdout",
     "output_type": "stream",
     "text": [
      "[2 3 4 5 6 7 8 9]\n"
     ]
    }
   ],
   "source": [
    "array_01 = np.arange(2,10)\n",
    "print(array_01)"
   ]
  },
  {
   "cell_type": "code",
   "execution_count": 16,
   "id": "92af1bc7-2883-4822-ad6b-b9ececf31042",
   "metadata": {},
   "outputs": [
    {
     "name": "stdout",
     "output_type": "stream",
     "text": [
      "[2 4 6 8]\n"
     ]
    }
   ],
   "source": [
    "array_01 = np.arange(2,10,2)\n",
    "print(array_01)"
   ]
  },
  {
   "cell_type": "code",
   "execution_count": 20,
   "id": "d93e645d-78fc-4442-afed-0473d4969d93",
   "metadata": {},
   "outputs": [
    {
     "name": "stdout",
     "output_type": "stream",
     "text": [
      "[ 1.  4.  7. 10.]\n"
     ]
    }
   ],
   "source": [
    "'''\n",
    "linpace() - gera m array numpy que: (1,10,4)\n",
    "1 - numero inicial do intervalo\n",
    "10 - numero final do intervalo\n",
    "4 - deve preencher o array com 4 elementos deste intervalo com o mesmo espaçamento entre eles.\n",
    "'''\n",
    "array_01 = np.linspace(1,10,4)\n",
    "print(array_01)"
   ]
  },
  {
   "cell_type": "code",
   "execution_count": 23,
   "id": "8d272a26-06b2-47e9-9232-00b3a25fb958",
   "metadata": {},
   "outputs": [
    {
     "name": "stdout",
     "output_type": "stream",
     "text": [
      "[False  True  True  True]\n"
     ]
    }
   ],
   "source": [
    "# qual() - compara elementos de arrays numpy resultado em um array de booleanos\n",
    "array_02 = np.array([1,4,7,4])\n",
    "array_03 = np.array([2,4,7,4])\n",
    "print(np.equal(array_02, array_03))"
   ]
  },
  {
   "cell_type": "code",
   "execution_count": 22,
   "id": "aba10503-1a19-4340-994a-e036c89cefb5",
   "metadata": {},
   "outputs": [
    {
     "name": "stdout",
     "output_type": "stream",
     "text": [
      "False\n"
     ]
    }
   ],
   "source": [
    "array_02 = np.array([1,4,7,4])\n",
    "array_03 = np.array([2,4,7,4])\n",
    "print(np.array_equal(array_02, array_03))"
   ]
  },
  {
   "cell_type": "markdown",
   "id": "9ccf90e1-b08f-4d26-a59c-81117661dffc",
   "metadata": {},
   "source": [
    "## slicing de array numpy (fatiamento)"
   ]
  },
  {
   "cell_type": "code",
   "execution_count": 27,
   "id": "91e5de3c-32d7-4af5-b03b-206c8c7d942e",
   "metadata": {},
   "outputs": [
    {
     "name": "stdout",
     "output_type": "stream",
     "text": [
      "[ 0  1  2  3  4  5  6  7  8  9 10 11 12 13 14 15 16 17 18 19 20 21 22 23\n",
      " 24 25 26 27 28 29 30 31 32 33 34 35 36 37 38 39 40 41 42 43 44 45 46 47\n",
      " 48 49 50 51 52 53 54 55 56 57 58 59 60 61 62 63 64 65 66 67 68 69 70 71\n",
      " 72 73 74 75 76 77 78 79 80 81 82 83 84 85 86 87 88 89 90 91 92 93 94 95\n",
      " 96 97 98 99]\n"
     ]
    }
   ],
   "source": [
    "array_04 = np.arange(100)\n",
    "print(array_04)"
   ]
  },
  {
   "cell_type": "code",
   "execution_count": null,
   "id": "9b5a815b-6483-4c24-9367-00ab82dbf476",
   "metadata": {},
   "outputs": [],
   "source": [
    "array_05 = np.arange(25)\n",
    "print(array_05)"
   ]
  }
 ],
 "metadata": {
  "kernelspec": {
   "display_name": "Python 3 (ipykernel)",
   "language": "python",
   "name": "python3"
  },
  "language_info": {
   "codemirror_mode": {
    "name": "ipython",
    "version": 3
   },
   "file_extension": ".py",
   "mimetype": "text/x-python",
   "name": "python",
   "nbconvert_exporter": "python",
   "pygments_lexer": "ipython3",
   "version": "3.10.4"
  }
 },
 "nbformat": 4,
 "nbformat_minor": 5
}
