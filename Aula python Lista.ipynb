{
 "cells": [
  {
   "cell_type": "markdown",
   "id": "ccc99abb-7c11-4459-b929-aee70ae0e09e",
   "metadata": {},
   "source": [
    "# Lista de Exercícios"
   ]
  },
  {
   "cell_type": "markdown",
   "id": "6af72a7f-03d0-4d5d-9164-9e7751304d68",
   "metadata": {},
   "source": [
    "## 1. Desenvolva um Algoritmo em Python que imprima a seguinte mensagem em linhas separadas:\r\n",
    "\"É preciso fazer todos os algoritmos.\" \"Para aprender python.\""
   ]
  },
  {
   "cell_type": "code",
   "execution_count": 1,
   "id": "2026f2e7-faaa-410d-bd36-90d6a2821ca6",
   "metadata": {},
   "outputs": [
    {
     "name": "stdout",
     "output_type": "stream",
     "text": [
      "É preciso fazer todos os algoritmos\n",
      "Para aprender python\n"
     ]
    }
   ],
   "source": [
    "print('É preciso fazer todos os algoritmos')\n",
    "print('Para aprender python')"
   ]
  },
  {
   "cell_type": "markdown",
   "id": "879fc886-c1a1-4218-8eee-6f334aec9714",
   "metadata": {},
   "source": [
    "### 2.Desenvolva um algoritmo em Python que armazene em uma variável o seguinte texto: “Instituto Federal de Educação, Ciência e Tecnologia do Rio Grande do Norte”. Logo em seguida, o algoritmo deve imprimir o texto armazenado na variável."
   ]
  },
  {
   "cell_type": "code",
   "execution_count": 2,
   "id": "bad0cf8a-4570-49f4-a6c3-e421d5f469e2",
   "metadata": {},
   "outputs": [
    {
     "name": "stdout",
     "output_type": "stream",
     "text": [
      "Instituto Federal de Educação, Ciencia e Tecnologia do Rio Grande do Norte\n"
     ]
    }
   ],
   "source": [
    "# armazenar um texto em uma variável\n",
    "texto = 'Instituto Federal de Educação, Ciencia e Tecnologia do Rio Grande do Norte'\n",
    "# agora vamos impremir o texto na variável.\n",
    "print(texto)"
   ]
  },
  {
   "cell_type": "markdown",
   "id": "74227a86-7266-494d-97fc-47492cb4a397",
   "metadata": {},
   "source": [
    "## Tipos de Dados em Python\n",
    "- Inteiro\n",
    "- Real\n",
    "- Texto\n",
    "- Booleano"
   ]
  },
  {
   "cell_type": "code",
   "execution_count": null,
   "id": "3159f520-f88d-4ce2-9cdd-6b825af4064c",
   "metadata": {},
   "outputs": [],
   "source": []
  }
 ],
 "metadata": {
  "kernelspec": {
   "display_name": "Python 3 (ipykernel)",
   "language": "python",
   "name": "python3"
  },
  "language_info": {
   "codemirror_mode": {
    "name": "ipython",
    "version": 3
   },
   "file_extension": ".py",
   "mimetype": "text/x-python",
   "name": "python",
   "nbconvert_exporter": "python",
   "pygments_lexer": "ipython3",
   "version": "3.10.6"
  }
 },
 "nbformat": 4,
 "nbformat_minor": 5
}
