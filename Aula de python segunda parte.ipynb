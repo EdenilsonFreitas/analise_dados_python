{
 "cells": [
  {
   "cell_type": "markdown",
   "id": "1a0c2600-e0d9-45d0-b800-9e5a677bc8f8",
   "metadata": {},
   "source": [
    "### Análise de Dados em Python\n"
   ]
  },
  {
   "cell_type": "code",
   "execution_count": 1,
   "id": "691f081f-f258-4fa7-a4e0-0b6ce5d2c695",
   "metadata": {},
   "outputs": [
    {
     "name": "stdout",
     "output_type": "stream",
     "text": [
      "Hello World!\n"
     ]
    }
   ],
   "source": [
    "print('Hello World!')"
   ]
  },
  {
   "cell_type": "code",
   "execution_count": null,
   "id": "680cf329-cf9c-4494-b98b-70929d2498fd",
   "metadata": {},
   "outputs": [],
   "source": []
  }
 ],
 "metadata": {
  "kernelspec": {
   "display_name": "Python 3 (ipykernel)",
   "language": "python",
   "name": "python3"
  },
  "language_info": {
   "codemirror_mode": {
    "name": "ipython",
    "version": 3
   },
   "file_extension": ".py",
   "mimetype": "text/x-python",
   "name": "python",
   "nbconvert_exporter": "python",
   "pygments_lexer": "ipython3",
   "version": "3.10.4"
  }
 },
 "nbformat": 4,
 "nbformat_minor": 5
}
