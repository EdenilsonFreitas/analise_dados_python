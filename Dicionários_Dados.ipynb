{
 "cells": [
  {
   "cell_type": "markdown",
   "id": "9f0c6468-9c7c-4af8-be6b-6fa89052b053",
   "metadata": {},
   "source": [
    "### Dicionários de Dados."
   ]
  },
  {
   "cell_type": "markdown",
   "id": "30b54a14-16d6-443f-9bd5-aaadd7185e50",
   "metadata": {},
   "source": [
    " Estrutura que permite armazenar o conceito de chave e valor.\n",
    "- Cada posiçao do dicionario possui um chave e um valor correpondente.\n",
    "- É criado atraves de chaves{}"
   ]
  },
  {
   "cell_type": "code",
   "execution_count": 1,
   "id": "18409069-1ad4-4e9e-9783-1fa5bb24d7d2",
   "metadata": {},
   "outputs": [],
   "source": [
    "# Criando um dicionario de dados\n",
    "dicionario_1 = {\"chave1\", \"valor1\", \"chave2\", \"valor2\" }"
   ]
  },
  {
   "cell_type": "code",
   "execution_count": 3,
   "id": "372e20a7-2912-4356-8e63-039bad4a8116",
   "metadata": {},
   "outputs": [],
   "source": [
    "# Forma organizada de representar um dicionario\n",
    "\n",
    "dicionario_1 = {\n",
    "    \"chave1\": \"valor1\", \n",
    "    \"chave2\": \"valor2\"\n",
    "}"
   ]
  },
  {
   "cell_type": "code",
   "execution_count": 4,
   "id": "5bd1e06f-4183-4593-9022-c1648e7fc043",
   "metadata": {},
   "outputs": [],
   "source": [
    "# O dicionario pode ter chaves e valores de diferentes tipos\n",
    "\n",
    "dicionario_2 = {\n",
    "    \"nota1\":10,\n",
    "    \"nota2\":20,\n",
    "}"
   ]
  },
  {
   "cell_type": "code",
   "execution_count": 5,
   "id": "5ab6daa5-24dc-4d55-ad75-88e14058f2d6",
   "metadata": {},
   "outputs": [
    {
     "name": "stdout",
     "output_type": "stream",
     "text": [
      "valor1\n"
     ]
    }
   ],
   "source": [
    "# Para acessar de um valor de um dicionario é necessario colchetes e a chave.\n",
    "dicionario_1 = {\n",
    "    \"chave1\": \"valor1\", \n",
    "    \"chave2\": \"valor2\"\n",
    "}\n",
    "print(dicionario_1[\"chave1\"])"
   ]
  },
  {
   "cell_type": "code",
   "execution_count": 6,
   "id": "838e4ce4-097b-4b9d-a054-388a365a52e9",
   "metadata": {},
   "outputs": [
    {
     "name": "stdout",
     "output_type": "stream",
     "text": [
      "20\n"
     ]
    }
   ],
   "source": [
    "# Criando um dicionario vazio e adicionando valores manualmente\n",
    "\n",
    "dicionario_3 = {}\n",
    "dicionario_3[\"nota1\"] = 20\n",
    "dicionario_3[\"nota2\"] = 50\n",
    "print(dicionario_3[\"nota1\"])\n",
    "    \n"
   ]
  },
  {
   "cell_type": "code",
   "execution_count": 7,
   "id": "84b29cb8-3e0b-4c84-91a3-d44eb5c13e8f",
   "metadata": {},
   "outputs": [
    {
     "name": "stdout",
     "output_type": "stream",
     "text": [
      "valor3\n"
     ]
    }
   ],
   "source": [
    "dicionario_1 = {\n",
    "    \"chave1\": \"valor1\", \n",
    "    \"chave2\": \"valor2\"\n",
    "}\n",
    "\n",
    "dicionario_1[\"chave3\"] = \"valor3\"\n",
    "print(dicionario_1[\"chave3\"])"
   ]
  },
  {
   "cell_type": "code",
   "execution_count": 8,
   "id": "822730a4-d360-4384-a70d-96b841c2b16f",
   "metadata": {},
   "outputs": [
    {
     "name": "stdout",
     "output_type": "stream",
     "text": [
      "3\n"
     ]
    }
   ],
   "source": [
    "# Tamanho de um dicionario - len()\n",
    "dicionario_1 = {\n",
    "    \"chave1\":\"valor1\", \n",
    "    \"chave2\":\"valor2\",\n",
    "    \"chave3\":\"valor3\"\n",
    "}\n",
    "print(len(dicionario_1))"
   ]
  },
  {
   "cell_type": "code",
   "execution_count": 9,
   "id": "3d23fc52-45fb-4e11-8a90-9c1239f6a36d",
   "metadata": {},
   "outputs": [
    {
     "name": "stdout",
     "output_type": "stream",
     "text": [
      "{}\n"
     ]
    }
   ],
   "source": [
    "# Zerar um dicionario - clear()\n",
    "dicionario_1 = {\n",
    "    \"chave1\":\"valor1\", \n",
    "    \"chave2\":\"valor2\",\n",
    "    \"chave3\":\"valor3\"\n",
    "}\n",
    "dicionario_1.clear()\n",
    "print(dicionario_1)"
   ]
  },
  {
   "cell_type": "code",
   "execution_count": 10,
   "id": "b71c91ef-4d4f-40fe-b5a8-224a148f0640",
   "metadata": {},
   "outputs": [
    {
     "name": "stdout",
     "output_type": "stream",
     "text": [
      "dict_keys(['chave1', 'chave2', 'chave3'])\n",
      "chave1\n"
     ]
    }
   ],
   "source": [
    "# Acessando todos as chaves do dicionario - keys()\n",
    "dicionario_1 = {\n",
    "    \"chave1\":\"valor1\", \n",
    "    \"chave2\":\"valor2\",\n",
    "    \"chave3\":\"valor3\"\n",
    "}\n",
    "print(dicionario_1.keys())\n",
    "print(list(dicionario_1.keys())[0])\n"
   ]
  },
  {
   "cell_type": "code",
   "execution_count": 13,
   "id": "4f1b0956-186c-42f6-9d06-a57664c1af8f",
   "metadata": {},
   "outputs": [
    {
     "name": "stdout",
     "output_type": "stream",
     "text": [
      "dict_values(['valor1', 'valor2', 'valor3'])\n"
     ]
    }
   ],
   "source": [
    "# Acensando os valores -  values()\n",
    "print(dicionario_1.values())"
   ]
  },
  {
   "cell_type": "code",
   "execution_count": 15,
   "id": "946eb0f2-67ab-4a5e-a55a-53b964a05930",
   "metadata": {},
   "outputs": [
    {
     "name": "stdout",
     "output_type": "stream",
     "text": [
      "valor2\n"
     ]
    }
   ],
   "source": [
    "# converter para lista e acessando os elementos via posiçao\n",
    "print(list(dicionario_1.values())[1])"
   ]
  },
  {
   "cell_type": "code",
   "execution_count": 18,
   "id": "d38b4867-2cce-4eaa-b9cf-0a3fb55c96b7",
   "metadata": {},
   "outputs": [
    {
     "name": "stdout",
     "output_type": "stream",
     "text": [
      "valor1\n",
      "valor2\n",
      "valor3\n"
     ]
    }
   ],
   "source": [
    "'''\n",
    "como imprimir todos os valores do dicionario a seguir\n",
    "sem saber quais sao as chaves e quantos elementos ele possui.\n",
    "\n",
    "'''\n",
    "dicionario_1 = {\n",
    "    \"chave1\":\"valor1\", \n",
    "    \"chave2\":\"valor2\",\n",
    "    \"chave3\":\"valor3\"\n",
    "}\n",
    "for valor in dicionario_1.values():\n",
    "    print(valor) \n",
    "\n"
   ]
  },
  {
   "cell_type": "code",
   "execution_count": 19,
   "id": "1d57d435-af1d-4e50-b78e-8019d2c0f3fd",
   "metadata": {},
   "outputs": [
    {
     "name": "stdout",
     "output_type": "stream",
     "text": [
      "chave:  chave1\n",
      "valor:  valor1\n",
      "chave:  chave2\n",
      "valor:  valor2\n",
      "chave:  chave3\n",
      "valor:  valor3\n"
     ]
    }
   ],
   "source": [
    "'''\n",
    "como imprimir todos as chaves e valores do dicionario a seguir\n",
    "sem saber quais sao as chaves e quantos elementos ele possui.\n",
    "\n",
    "'''\n",
    "dicionario_1 = {\n",
    "    \"chave1\":\"valor1\", \n",
    "    \"chave2\":\"valor2\",\n",
    "    \"chave3\":\"valor3\"\n",
    "}\n",
    "\n",
    "for chave in dicionario_1.keys():\n",
    "    print(\"chave: \", chave)\n",
    "    print(\"valor: \", dicionario_1[chave])\n"
   ]
  },
  {
   "cell_type": "code",
   "execution_count": 21,
   "id": "c3cadfa5-eba1-4c81-996f-cab8ae11935e",
   "metadata": {},
   "outputs": [
    {
     "name": "stdout",
     "output_type": "stream",
     "text": [
      "chave:  chave1 valor:  valor1\n",
      "chave:  chave2 valor:  valor2\n",
      "chave:  chave3 valor:  valor3\n"
     ]
    }
   ],
   "source": [
    "'''\n",
    "A funçao items() retorna ao mesmo tempo\n",
    "a chave e valor (retorno duplo)\n",
    "'''\n",
    "for chave, valor in dicionario_1.items():\n",
    "    print(\"chave: \",chave,\"valor: \",valor)"
   ]
  },
  {
   "cell_type": "code",
   "execution_count": 22,
   "id": "4b91132c-c93b-4a84-81fb-9c3ce0552f9c",
   "metadata": {},
   "outputs": [
    {
     "name": "stdout",
     "output_type": "stream",
     "text": [
      "80\n"
     ]
    }
   ],
   "source": [
    "# É possivel salvar uma lista como valor de um dicionario\n",
    "\n",
    "dicionario_4 = {\n",
    "    \"notas1\":[80,50],\n",
    "    \"notas2\":[60,100],\n",
    "}\n",
    "print(dicionario_4[\"notas1\"][0])"
   ]
  },
  {
   "cell_type": "code",
   "execution_count": 23,
   "id": "4871a771-230a-4825-b9bd-78d08eaede9e",
   "metadata": {},
   "outputs": [
    {
     "name": "stdout",
     "output_type": "stream",
     "text": [
      "{'nota1': 80, 'nota2': 60, 'nome': 'Edenilson Freitas', 'CPF': '123456789'}\n"
     ]
    }
   ],
   "source": [
    "# para unir dicionario, se usa a funçao update()\n",
    "dicionario_5 = {\n",
    "    \"nota1\":80,\n",
    "    \"nota2\":60,\n",
    "    \n",
    "}\n",
    "dicionario_6 = {\n",
    "    \"nome\":\"Edenilson Freitas\",\n",
    "    \"CPF\":\"123456789\"\n",
    "}\n",
    "dicionario_5.update(dicionario_6)\n",
    "print(dicionario_5)"
   ]
  },
  {
   "cell_type": "code",
   "execution_count": null,
   "id": "41e7b9f1-8655-472c-bc10-8d710157de76",
   "metadata": {},
   "outputs": [],
   "source": [
    ")"
   ]
  }
 ],
 "metadata": {
  "kernelspec": {
   "display_name": "Python 3 (ipykernel)",
   "language": "python",
   "name": "python3"
  },
  "language_info": {
   "codemirror_mode": {
    "name": "ipython",
    "version": 3
   },
   "file_extension": ".py",
   "mimetype": "text/x-python",
   "name": "python",
   "nbconvert_exporter": "python",
   "pygments_lexer": "ipython3",
   "version": "3.10.6"
  }
 },
 "nbformat": 4,
 "nbformat_minor": 5
}
