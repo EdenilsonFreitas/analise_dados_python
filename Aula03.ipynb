{
 "cells": [
  {
   "cell_type": "markdown",
   "id": "457eabef-82d1-40c1-85a8-37a8e2c6daf2",
   "metadata": {},
   "source": [
    "## Tipos de Dados em Python\n",
    "- Inteiro\n",
    "- Real\n",
    "- Texto\n",
    "- Booleano"
   ]
  },
  {
   "cell_type": "code",
   "execution_count": 2,
   "id": "701808c6-0aa6-484e-8283-9c5dee039a6d",
   "metadata": {},
   "outputs": [],
   "source": [
    "idada = 30\n",
    "nota = 10.5\n",
    "nome = 'IFRN'\n",
    "valor = True\n"
   ]
  },
  {
   "cell_type": "markdown",
   "id": "4a457bf5-765d-430d-93c0-a49df638a0f0",
   "metadata": {},
   "source": [
    "## Estrura Condicionais IF IF...ELSE ELIF\n"
   ]
  },
  {
   "cell_type": "code",
   "execution_count": 3,
   "id": "ad1bf49d-0791-41db-8bcb-b898d945fa28",
   "metadata": {},
   "outputs": [],
   "source": [
    "valor = 0\n",
    "if valor > 0:\n",
    "    print('valor positivo')"
   ]
  },
  {
   "cell_type": "code",
   "execution_count": 4,
   "id": "ea1636d6-2391-4dd5-8f62-9c877b941adb",
   "metadata": {},
   "outputs": [
    {
     "name": "stdout",
     "output_type": "stream",
     "text": [
      "valor positivo\n"
     ]
    }
   ],
   "source": [
    "valor = 5\n",
    "if valor>=0:\n",
    "    print('valor positivo')\n",
    "else:\n",
    "    print('valor negativo')\n",
    "    "
   ]
  },
  {
   "cell_type": "code",
   "execution_count": 5,
   "id": "f3d70feb-9d02-463d-a522-0900367c2d44",
   "metadata": {},
   "outputs": [
    {
     "name": "stdout",
     "output_type": "stream",
     "text": [
      "positivo\n"
     ]
    }
   ],
   "source": [
    "volar = 2\n",
    "if valor >0:\n",
    "    print('positivo')\n",
    "elif valor==0:\n",
    "    print('Zero')\n",
    "else:\n",
    "    print('negativo')"
   ]
  },
  {
   "cell_type": "markdown",
   "id": "bc773d0e-2800-4100-9ae8-326b05632c66",
   "metadata": {},
   "source": [
    "## Lista de Dados (Array) \n",
    "- usa colchetes para agurpar os elementos\n",
    "- atráves de lista é possivel salvar varios valores em um unica vaiavel"
   ]
  },
  {
   "cell_type": "code",
   "execution_count": 6,
   "id": "bf723087-4eaa-4d77-b148-e8f92335ff6f",
   "metadata": {},
   "outputs": [
    {
     "name": "stdout",
     "output_type": "stream",
     "text": [
      "Analise\n"
     ]
    }
   ],
   "source": [
    "idades = [30,18,23]\n",
    "notas = [8.5,7.5]\n",
    "nome = ['IFRN','IFPB','IFPE']\n",
    "valores =[True, False, False]\n",
    "diversos = [30,5.3,'Analise',True]\n",
    "print(diversos[2])\n"
   ]
  },
  {
   "cell_type": "code",
   "execution_count": 8,
   "id": "a00cb483-bbaf-41c4-84e5-1d8f9499e8a8",
   "metadata": {},
   "outputs": [
    {
     "data": {
      "text/plain": [
       "'Analise'"
      ]
     },
     "execution_count": 8,
     "metadata": {},
     "output_type": "execute_result"
    }
   ],
   "source": [
    "diversos[2]"
   ]
  },
  {
   "cell_type": "code",
   "execution_count": 13,
   "id": "6ea72474-65d8-440b-b086-699156eddd41",
   "metadata": {},
   "outputs": [],
   "source": [
    "\n",
    "##o Jupyter permite e impressao sem a utilizaçao do print, isto funciona apenas nesta ferramenta."
   ]
  },
  {
   "cell_type": "code",
   "execution_count": 15,
   "id": "4c2d81a0-ba37-4dfc-ad45-16c695c16685",
   "metadata": {},
   "outputs": [
    {
     "name": "stdout",
     "output_type": "stream",
     "text": [
      "2\n"
     ]
    }
   ],
   "source": [
    "# O Exemplo a seguir possui uma lista dentro de outra lista\n",
    "lista_1 = [5,3,[2,1]]\n",
    "print(lista_1[2][0])"
   ]
  },
  {
   "cell_type": "code",
   "execution_count": 16,
   "id": "47cf874e-1595-4837-bcae-9bc79365d3a6",
   "metadata": {},
   "outputs": [
    {
     "name": "stdout",
     "output_type": "stream",
     "text": [
      "5\n"
     ]
    }
   ],
   "source": [
    "# len conta quantos elementos tem o array\n",
    "lista_2 = [10,5,3,2,100]\n",
    "print(len(lista_2))"
   ]
  },
  {
   "cell_type": "markdown",
   "id": "b5795366-2e10-4dc2-87c2-8881821476b7",
   "metadata": {},
   "source": [
    "## Estrura de Repetição\n",
    "-se usa for e lista de dados"
   ]
  },
  {
   "cell_type": "code",
   "execution_count": 18,
   "id": "9a4df95d-7534-4597-9711-3648692d5661",
   "metadata": {},
   "outputs": [
    {
     "name": "stdout",
     "output_type": "stream",
     "text": [
      "1\n",
      "2\n",
      "3\n",
      "4\n",
      "5\n"
     ]
    }
   ],
   "source": [
    "# os elementos do array, vão para a variavel e depois é impressa\n",
    "for numero in[1,2,3,4,5]:\n",
    "    print(numero)"
   ]
  },
  {
   "cell_type": "markdown",
   "id": "1d60d270-3ead-40fc-90a1-9b84d84fe1f0",
   "metadata": {},
   "source": [
    "#### A funcão range serve para gerar uma lista de dados"
   ]
  },
  {
   "cell_type": "code",
   "execution_count": 20,
   "id": "6612424c-05aa-4980-9745-7f0fb71b7cf6",
   "metadata": {},
   "outputs": [
    {
     "data": {
      "text/plain": [
       "[0, 1, 2, 3, 4, 5, 6, 7, 8, 9]"
      ]
     },
     "execution_count": 20,
     "metadata": {},
     "output_type": "execute_result"
    }
   ],
   "source": [
    "list(range(10))"
   ]
  },
  {
   "cell_type": "code",
   "execution_count": 21,
   "id": "dbf344ae-8863-43f6-9996-97ab32f84b73",
   "metadata": {},
   "outputs": [
    {
     "data": {
      "text/plain": [
       "[1, 2, 3, 4, 5, 6, 7, 8, 9]"
      ]
     },
     "execution_count": 21,
     "metadata": {},
     "output_type": "execute_result"
    }
   ],
   "source": [
    "list(range(1,10))"
   ]
  },
  {
   "cell_type": "code",
   "execution_count": 22,
   "id": "4c9a4ebd-9aa7-4f4f-a541-2d2e954f1929",
   "metadata": {},
   "outputs": [
    {
     "data": {
      "text/plain": [
       "[1, 3, 5, 7, 9]"
      ]
     },
     "execution_count": 22,
     "metadata": {},
     "output_type": "execute_result"
    }
   ],
   "source": [
    "list(range(1,10,2))"
   ]
  },
  {
   "cell_type": "code",
   "execution_count": null,
   "id": "d15c2fcf-b891-4797-a174-b53a11ae6b0e",
   "metadata": {},
   "outputs": [],
   "source": []
  }
 ],
 "metadata": {
  "kernelspec": {
   "display_name": "Python 3 (ipykernel)",
   "language": "python",
   "name": "python3"
  },
  "language_info": {
   "codemirror_mode": {
    "name": "ipython",
    "version": 3
   },
   "file_extension": ".py",
   "mimetype": "text/x-python",
   "name": "python",
   "nbconvert_exporter": "python",
   "pygments_lexer": "ipython3",
   "version": "3.10.4"
  }
 },
 "nbformat": 4,
 "nbformat_minor": 5
}
